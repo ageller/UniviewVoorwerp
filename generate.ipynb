{
 "cells": [
  {
   "cell_type": "markdown",
   "metadata": {},
   "source": [
    "# Uniview module for Hanny's Voorwerp \n",
    "\n",
    "Working to create a 3D scene from [this image.](https://www.nasa.gov/mission_pages/hubble/science/space-oddity.html)\n",
    "\n",
    "This will include two parts\n",
    "\n",
    "1. A particle model for Hanny's Voorwerp (see the rawdata directory)\n",
    "\n",
    "2. A model for the AGN, adapted from my Blazar model from [here.](https://github.com/ageller/UniviewBlazar)\n",
    "\n",
    "*Aaron Geller, 2019*\n",
    "\n",
    "### Imports and function definitions"
   ]
  },
  {
   "cell_type": "code",
   "execution_count": 9,
   "metadata": {},
   "outputs": [],
   "source": [
    "#This directory contains all the data needed for the module. It should be in the same directory as the notebook\n",
    "dataFolder = \"data\"\n",
    "\n",
    "import sys, os, shutil, errno, string, urllib\n",
    "\n",
    "sys.path.append(( os.path.abspath( os.path.join(os.path.realpath(\"__file__\"),  os.pardir, os.pardir) )))\n",
    "#print(sys.path)\n",
    "import uvmodlib.v1 as uvmod"
   ]
  },
  {
   "cell_type": "markdown",
   "metadata": {},
   "source": [
    "### USES Conf Templates"
   ]
  },
  {
   "cell_type": "code",
   "execution_count": 10,
   "metadata": {},
   "outputs": [],
   "source": [
    "VoorwerpTemplate = \"\"\"mesh\n",
    "{  \n",
    "    data blazar ./modules/$folderName/BlazarSolidModel_v2.2.obj\n",
    "    data voorwerp    ./modules/$folderName/voorwerp.raw\n",
    "    data galaxy    ./modules/$folderName/galaxy.raw\n",
    "\n",
    "#    cullRadius $cr\n",
    "    glslVersion 330\n",
    "    enableTypeCheck true\n",
    "    \n",
    "    propertyCollection \n",
    "    {        \n",
    "        __objectName__\n",
    "        {           \n",
    "            vec1f cloudAlpha 0.2 | public | desc \"clouds alpha\" | widget slider | range 0 1\n",
    "            vec1f jetAlpha 1.0 | public | desc \"jet alpha\" | widget slider | range 0 1\n",
    "            vec1f voorwerpAlpha 1.0 | public | desc \"voorwerp alpha\" | widget slider | range 0 1\n",
    "            vec1f voorwerpPsize 1.0 | public | desc \"voorwerp particle size\" | widget slider | range 0 20\n",
    "            vec3f voorwerpOffset 0.0 0.0 0.0 | public | desc \"voorwerp particle offset x,y,z\" \n",
    "            vec1f voorwerpScale 1.0 | public | desc \"voorwerp size scale\" | widget slider | range 0 100\n",
    "            vec1f voorwerpRotationX 0.0 | public | desc \"voorwerp X rotation angle\" | widget slider | range 0 6.283\n",
    "            vec1f voorwerpRotationY 0.0 | public | desc \"voorwerp Y rotation angle\" | widget slider | range 0 6.283\n",
    "            vec1f voorwerpRotationZ 0.0 | public | desc \"voorwerp Z rotation angle\" | widget slider | range 0 6.283\n",
    "            vec1f galaxyAlpha 0.02 | public | desc \"galaxy alpha\" | widget slider | range 0 1\n",
    "            vec1f galaxyPsize 6.0 | public | desc \"galaxy particle size\" | widget slider | range 0 20\n",
    "            vec1f galaxyScale 50.0 | public | desc \"galaxy size scale\" | widget slider | range 0 100\n",
    "            vec3f galaxyColor 1.0 1.0 1.0 | public | desc \"galaxy color r,g,b\"\n",
    "            vec1f galaxyRotationX 1.5707963267948966 | public | desc \"galaxy X rotation angle\" | widget slider | range 0 6.283\n",
    "            vec1f galaxyRotationY 0.0 | public | desc \"galaxy Y rotation angle\" | widget slider | range 0 6.283\n",
    "            vec1f galaxyRotationZ 0.0 | public | desc \"galaxy Z rotation angle\" | widget slider | range 0 6.283\n",
    "        }\n",
    "    }\n",
    "\n",
    "    ############# AGN\n",
    "    pass \n",
    "    {\n",
    "        \n",
    "        useDataObject blazar\n",
    "        \n",
    "        shader\n",
    "        {\n",
    "            \n",
    "            type defaultMeshShader\n",
    "            {\n",
    "                mtrl jetMaterial\n",
    "                vertexShader   ./modules/$folderName/blazar.vs\n",
    "                geometryShader ./modules/$folderName/jet.gs\n",
    "                fragmentShader ./modules/$folderName/jet.fs\n",
    "                \n",
    "                stateManagerVar __objectName__.jetAlpha  jetAlpha\n",
    "\n",
    "                glState\n",
    "                {\n",
    "                    UV_CULL_FACE_ENABLE false\n",
    "                    UV_BLEND_ENABLE true\n",
    "                    UV_DEPTH_ENABLE true\n",
    "                    UV_WRITE_MASK_DEPTH false\n",
    "                    UV_BLEND_FUNC GL_SRC_ALPHA GL_ONE_MINUS_SRC_ALPHA\n",
    "                }\n",
    "                \n",
    "            }            \n",
    "            type defaultMeshShader\n",
    "            {\n",
    "                mtrl blackHoleMaterial\n",
    "                vertexShader   ./modules/$folderName/blazar.vs\n",
    "                geometryShader ./modules/$folderName/blazar.gs\n",
    "                fragmentShader ./modules/$folderName/blazar.fs\n",
    "            }\n",
    "\n",
    "            type defaultMeshShader\n",
    "            {\n",
    "                mtrl accretionDiskMaterial\n",
    "                vertexShader   ./modules/$folderName/blazar.vs\n",
    "                geometryShader ./modules/$folderName/blazar.gs\n",
    "                fragmentShader ./modules/$folderName/accretionDisk.fs\n",
    "                texture cmap ./modules/$folderName/cmap.png\n",
    "                {             \n",
    "                    wrapModeS GL_CLAMP_TO_EDGE\n",
    "                    wrapModeR GL_CLAMP_TO_EDGE\n",
    "                    colorspace linear\n",
    "                }  \n",
    "            }\n",
    "\n",
    "            type defaultMeshShader\n",
    "            {\n",
    "                mtrl exteriorDiskMaterial\n",
    "                vertexShader   ./modules/$folderName/exteriorDisk.vs\n",
    "                geometryShader ./modules/$folderName/blazar.gs\n",
    "                fragmentShader ./modules/$folderName/exteriorDisk.fs\n",
    "                texture cmap ./modules/$folderName/cmap.png\n",
    "                {             \n",
    "                    wrapModeS GL_CLAMP_TO_EDGE\n",
    "                    wrapModeR GL_CLAMP_TO_EDGE\n",
    "                    colorspace linear\n",
    "                } \n",
    "            }\n",
    "\n",
    "            type defaultMeshShader\n",
    "            {\n",
    "                mtrl cloudMaterial\n",
    "                vertexShader   ./modules/$folderName/exteriorDisk.vs\n",
    "                geometryShader ./modules/$folderName/jet.gs\n",
    "                fragmentShader ./modules/$folderName/clouds.fs\n",
    "                texture cmap ./modules/$folderName/cmap.png\n",
    "                {             \n",
    "                    wrapModeS GL_CLAMP_TO_EDGE\n",
    "                    wrapModeR GL_CLAMP_TO_EDGE\n",
    "                    colorspace linear\n",
    "                } \n",
    "                \n",
    "                stateManagerVar __objectName__.cloudAlpha  cloudAlpha\n",
    "                \n",
    "                glState\n",
    "                {\n",
    "                    UV_CULL_FACE_ENABLE true\n",
    "                    UV_BLEND_ENABLE true\n",
    "                    UV_DEPTH_ENABLE true\n",
    "                    UV_WRITE_MASK_DEPTH false\n",
    "                    UV_BLEND_FUNC GL_SRC_ALPHA GL_ONE_MINUS_SRC_ALPHA\n",
    "                }\n",
    "            }\n",
    "\n",
    "\n",
    "        }\n",
    "            \n",
    "    }\n",
    "    \n",
    "\n",
    "    ############# Hanny's Voorwerp\n",
    "    pass\n",
    "    {\n",
    "        useDataObject voorwerp\n",
    "        shader\n",
    "        {\n",
    "            type defaultMeshShader\n",
    "            {\n",
    "                geometryShader   ./modules/$folderName/voorwerp.gs\n",
    "                vertexShader ./modules/$folderName/voorwerp.vs\n",
    "                fragmentShader   ./modules/$folderName/voorwerp.fs\n",
    "                \n",
    "                stateManagerVar __objectName__.voorwerpPsize  userPsize\n",
    "                stateManagerVar __objectName__.voorwerpScale  userScale\n",
    "                stateManagerVar __objectName__.voorwerpAlpha  userAlpha\n",
    "                stateManagerVar __objectName__.voorwerpRotationX  userRotationX\n",
    "                stateManagerVar __objectName__.voorwerpRotationY  userRotationY\n",
    "                stateManagerVar __objectName__.voorwerpRotationZ  userRotationZ\n",
    "                stateManagerVar __objectName__.voorwerpOffset  voorwerpOffset\n",
    "                \n",
    "                glState\n",
    "                {\n",
    "                    UV_CULL_FACE_ENABLE false\n",
    "                    UV_BLEND_ENABLE true\n",
    "                    UV_DEPTH_ENABLE false\n",
    "                    UV_WRITE_MASK_DEPTH true\n",
    "                    UV_BLEND_FUNC GL_SRC_ALPHA GL_ONE_MINUS_SRC_ALPHA\n",
    "                }\n",
    "            }\n",
    "\n",
    "        }    \n",
    "    }\n",
    "\n",
    "\n",
    "    ############# Spiral galaxy particles\n",
    "    pass\n",
    "    {\n",
    "        useDataObject galaxy\n",
    "        shader\n",
    "        {\n",
    "            type defaultMeshShader\n",
    "            {\n",
    "                geometryShader   ./modules/$folderName/galaxy.gs\n",
    "                vertexShader ./modules/$folderName/voorwerp.vs\n",
    "                fragmentShader   ./modules/$folderName/voorwerp.fs\n",
    "                \n",
    "                stateManagerVar __objectName__.galaxyPsize  userPsize\n",
    "                stateManagerVar __objectName__.galaxyScale  userScale\n",
    "                stateManagerVar __objectName__.galaxyAlpha  userAlpha\n",
    "                stateManagerVar __objectName__.galaxyRotationX  userRotationX\n",
    "                stateManagerVar __objectName__.galaxyRotationY  userRotationY\n",
    "                stateManagerVar __objectName__.galaxyRotationZ  userRotationZ\n",
    "                stateManagerVar __objectName__.galaxyColor  galaxyColor\n",
    "                \n",
    "                glState\n",
    "                {\n",
    "                    UV_CULL_FACE_ENABLE false\n",
    "                    UV_BLEND_ENABLE true\n",
    "                    UV_DEPTH_ENABLE false\n",
    "                    UV_WRITE_MASK_DEPTH true\n",
    "                    UV_BLEND_FUNC GL_SRC_ALPHA GL_ONE_MINUS_SRC_ALPHA\n",
    "                }\n",
    "            }\n",
    "\n",
    "        }    \n",
    "    }\n",
    "    \n",
    "}\"\"\""
   ]
  },
  {
   "cell_type": "markdown",
   "metadata": {},
   "source": [
    "### Voorwerp Class"
   ]
  },
  {
   "cell_type": "code",
   "execution_count": 11,
   "metadata": {},
   "outputs": [],
   "source": [
    "class VoorwerpClass():\n",
    "    def __init__(self, object):\n",
    "        self.object = object\n",
    "        uvmod.Utility.ensurerelativepathexsists(\"BlazarSolidModel_v2.2.obj\",dataFolder)\n",
    "        uvmod.Utility.ensurerelativepathexsists(\"voorwerp.raw\",dataFolder)\n",
    "        uvmod.Utility.ensurerelativepathexsists(\"galaxy.raw\",dataFolder)\n",
    "        uvmod.Utility.ensurerelativepathexsists(\"blazar.vs\",dataFolder)\n",
    "        uvmod.Utility.ensurerelativepathexsists(\"blazar.gs\",dataFolder)        \n",
    "        uvmod.Utility.ensurerelativepathexsists(\"blazar.fs\",dataFolder)        \n",
    "        uvmod.Utility.ensurerelativepathexsists(\"jet.gs\",dataFolder)        \n",
    "        uvmod.Utility.ensurerelativepathexsists(\"jet.fs\",dataFolder)        \n",
    "        uvmod.Utility.ensurerelativepathexsists(\"accretionDisk.fs\",dataFolder)        \n",
    "        uvmod.Utility.ensurerelativepathexsists(\"exteriorDisk.vs\",dataFolder)        \n",
    "        uvmod.Utility.ensurerelativepathexsists(\"exteriorDisk.fs\",dataFolder)        \n",
    "        uvmod.Utility.ensurerelativepathexsists(\"clouds.fs\",dataFolder)        \n",
    "        uvmod.Utility.ensurerelativepathexsists(\"voorwerp.gs\",dataFolder)\n",
    "        uvmod.Utility.ensurerelativepathexsists(\"voorwerp.fs\",dataFolder)\n",
    "        uvmod.Utility.ensurerelativepathexsists(\"voorwerp.vs\",dataFolder)\n",
    "        uvmod.Utility.ensurerelativepathexsists(\"galaxy.gs\",dataFolder)\n",
    "        self.cr = 1000\n",
    "    def generatemod(self):\n",
    "        self.object.setgeometry(self.object.name+\"Mesh.usesconf\")\n",
    "        return self.object.generatemod()\n",
    "    def generatefiles(self, absOutDir, relOutDir):\n",
    "        fileName = self.object.name+\"Mesh.usesconf\"\n",
    "        s = string.Template(VoorwerpTemplate)\n",
    "        f = open(absOutDir+\"\\\\\"+fileName, 'w')\n",
    "        if f:\n",
    "            f.write(s.substitute(folderName = relOutDir, cr = self.cr))\n",
    "            f.close()\n",
    "        uvmod.Utility.copyfoldercontents(os.getcwd()+\"\\\\\"+dataFolder, absOutDir)"
   ]
  },
  {
   "cell_type": "markdown",
   "metadata": {},
   "source": [
    "### Object Instantiation"
   ]
  },
  {
   "cell_type": "code",
   "execution_count": 12,
   "metadata": {},
   "outputs": [],
   "source": [
    "model = VoorwerpClass(uvmod.OrbitalObject())\n",
    "scene = uvmod.Scene()\n",
    "parentScene = uvmod.Scene()\n",
    "modinfo = uvmod.ModuleInformation()\n",
    "generator = uvmod.Generator()"
   ]
  },
  {
   "cell_type": "markdown",
   "metadata": {},
   "source": [
    "### Specify Settings and generate the module"
   ]
  },
  {
   "cell_type": "code",
   "execution_count": 17,
   "metadata": {},
   "outputs": [
    {
     "name": "stdout",
     "output_type": "stream",
     "text": [
      "Unable to connect to Uniview\n"
     ]
    }
   ],
   "source": [
    "scene.setname(\"HannysVoorwerp\")\n",
    "scene.setparent(\"MilkyWay\")\n",
    "# scene.setunit(100000000000.0)\n",
    "# scene.setentrydist(100000.)\n",
    "# scene.setstaticposition(-148855900, 103197681, 125571970)\n",
    "\n",
    "model.object.setname(\"HannysVoorwerp\")\n",
    "model.object.setcoord(scene.name)\n",
    "model.object.setcameraradius(0.001)\n",
    "model.object.settargetradius(2000)\n",
    "model.object.setguiname(\"/KavliLecture/Zooniverse/HannysVoorwerp\")\n",
    "model.object.setscalefactor(10000.0)\n",
    "model.object.showatstartup(False)\n",
    "\n",
    "#model.cr = 10000\n",
    "\n",
    "modinfo.setname(\"HannysVoorwerp\")\n",
    "modinfo.setauthor(\"Aaron Geller<sup>1</sup>, Laura Trouille<sup>1</sup> and Chris Lintott<sup>2</sup><br />(1)Adler Planetarium,<br />(2)Oxford University\")\n",
    "modinfo.cleardependencies()\n",
    "modinfo.setdesc(\"A 3D model Hanny's Voorwerp.\")\n",
    "modinfo.setversion(\"1.0\")\n",
    "\n",
    "generator.generate(\"HannysVoorwerp\",[scene],[model],modinfo)\n",
    "uvmod.Utility.senduvcommand(model.object.name+\".reload;\")"
   ]
  },
  {
   "cell_type": "markdown",
   "metadata": {},
   "source": [
    "## To reload"
   ]
  },
  {
   "cell_type": "code",
   "execution_count": 6,
   "metadata": {},
   "outputs": [],
   "source": [
    "from config import Settings"
   ]
  },
  {
   "cell_type": "code",
   "execution_count": 11,
   "metadata": {},
   "outputs": [],
   "source": [
    "uvmod.Utility.copyfoldercontents(os.getcwd()+\"\\\\\"+dataFolder, Settings.uvcustommodulelocation+'\\\\'+model.object.name)\n",
    "uvmod.Utility.senduvcommand(model.object.name+\".reload;\")"
   ]
  },
  {
   "cell_type": "markdown",
   "metadata": {},
   "source": [
    "### Create colormap texture"
   ]
  },
  {
   "cell_type": "code",
   "execution_count": 2,
   "metadata": {
    "scrolled": true
   },
   "outputs": [
    {
     "data": {
      "image/png": "[encoded data removed]",
      "text/plain": [
       "<Figure size 432x288 with 1 Axes>"
      ]
     },
     "metadata": {
      "needs_background": "light"
     },
     "output_type": "display_data"
    }
   ],
   "source": [
    "import numpy as np\n",
    "import matplotlib.pyplot as plt\n",
    "from matplotlib import cm\n",
    "\n",
    "gradient = np.linspace(0, 1, 256)\n",
    "gradient = np.vstack((gradient, gradient))\n",
    "\n",
    "def plot_cmap(colormap):\n",
    "    fig=plt.imshow(gradient, aspect=1, cmap=colormap)\n",
    "    plt.axis('off')\n",
    "    fig.axes.get_xaxis().set_visible(False)\n",
    "    fig.axes.get_yaxis().set_visible(False)\n",
    "    plt.savefig(\"data/cmap.png\", bbox_inches='tight',pad_inches=0)\n",
    "\n",
    "plot_cmap('RdPu')\n",
    "\n",
    "plt.show()"
   ]
  },
  {
   "cell_type": "markdown",
   "metadata": {},
   "source": [
    "## Hanny's Voorwerp position \n",
    "\n",
    "*From [this arcticle.](https://academic.oup.com/mnras/article/399/1/129/1086654)*"
   ]
  },
  {
   "cell_type": "code",
   "execution_count": 3,
   "metadata": {},
   "outputs": [],
   "source": [
    "from astropy.coordinates import SkyCoord, Distance\n",
    "from astropy import units"
   ]
  },
  {
   "cell_type": "code",
   "execution_count": 6,
   "metadata": {},
   "outputs": [
    {
     "name": "stdout",
     "output_type": "stream",
     "text": [
      "(-1.488559e+08, 1.03197681e+08, 1.2557197e+08) pc\n"
     ]
    }
   ],
   "source": [
    "RA = 145.2675*units.deg #right ascension\n",
    "Dec= 34.7325*units.deg #declination\n",
    "dist = 220.4*10**6 *units.pc\n",
    "\n",
    "coord = SkyCoord(RA, Dec, dist)\n",
    "\n",
    "print(coord.cartesian)"
   ]
  },
  {
   "cell_type": "code",
   "execution_count": 20,
   "metadata": {},
   "outputs": [
    {
     "data": {
      "text/plain": [
       "1.5707963267948966"
      ]
     },
     "execution_count": 20,
     "metadata": {},
     "output_type": "execute_result"
    }
   ],
   "source": [
    "import numpy as np\n",
    "np.pi/2."
   ]
  },
  {
   "cell_type": "code",
   "execution_count": null,
   "metadata": {},
   "outputs": [],
   "source": []
  }
 ],
 "metadata": {
  "anaconda-cloud": {},
  "kernelspec": {
   "display_name": "Python 3",
   "language": "python",
   "name": "python3"
  },
  "language_info": {
   "codemirror_mode": {
    "name": "ipython",
    "version": 3
   },
   "file_extension": ".py",
   "mimetype": "text/x-python",
   "name": "python",
   "nbconvert_exporter": "python",
   "pygments_lexer": "ipython3",
   "version": "3.7.3"
  }
 },
 "nbformat": 4,
 "nbformat_minor": 1
}
