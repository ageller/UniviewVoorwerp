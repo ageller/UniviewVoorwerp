{
 "cells": [
  {
   "cell_type": "markdown",
   "metadata": {},
   "source": [
    "# Particle model for spiral galaxy"
   ]
  },
  {
   "cell_type": "code",
   "execution_count": 2,
   "metadata": {},
   "outputs": [],
   "source": [
    "import numpy as np\n",
    "from PIL import Image\n",
    "import matplotlib.pyplot as plt\n",
    "\n",
    "%matplotlib inline"
   ]
  },
  {
   "cell_type": "markdown",
   "metadata": {},
   "source": [
    "### Get a colormap from the galaxy image"
   ]
  },
  {
   "cell_type": "code",
   "execution_count": 6,
   "metadata": {},
   "outputs": [
    {
     "data": {
      "image/png": "[encoded data removed]",
      "text/plain": [
       "<Figure size 720x1440 with 1 Axes>"
      ]
     },
     "metadata": {
      "needs_background": "light"
     },
     "output_type": "display_data"
    }
   ],
   "source": [
    "im = Image.open('509256main_p1101a1.tif')\n",
    "imarray = np.array(im)\n",
    "\n",
    "f,ax = plt.subplots(1,1, figsize=(10,20))\n",
    "fig = ax.imshow(imarray[:][420:450])\n",
    "plt.axis('off')\n",
    "fig.axes.get_xaxis().set_visible(False)\n",
    "fig.axes.get_yaxis().set_visible(False)\n",
    "plt.savefig('../data/galaxyCmap.png', bbox_inches='tight',pad_inches=0)\n",
    "#print(imarray.shape)"
   ]
  },
  {
   "cell_type": "code",
   "execution_count": 78,
   "metadata": {},
   "outputs": [],
   "source": [
    "#https://stackoverflow.com/questions/6802577/rotation-of-3d-vector\n",
    "def rotation_matrix(axis, theta):\n",
    "    \"\"\"\n",
    "    Return the rotation matrix associated with counterclockwise rotation about\n",
    "    the given axis by theta radians.\n",
    "    \"\"\"\n",
    "    axis = np.asarray(axis)\n",
    "    axis = axis / np.sqrt(np.dot(axis, axis))\n",
    "    a = np.cos(theta / 2.0)\n",
    "    b, c, d = -axis * np.sin(theta / 2.0)\n",
    "    aa, bb, cc, dd = a * a, b * b, c * c, d * d\n",
    "    bc, ad, ac, ab, bd, cd = b * c, a * d, a * c, a * b, b * d, c * d\n",
    "    return np.array([[aa + bb - cc - dd, 2 * (bc + ad), 2 * (bd - ac)],\n",
    "                     [2 * (bc - ad), aa + cc - bb - dd, 2 * (cd + ab)],\n",
    "                     [2 * (bd + ac), 2 * (cd - ab), aa + dd - bb - cc]])\n",
    "\n",
    "def createSpiralGalaxy(arms, starsPerArm, radius, scaleHeight, armThickness, N, B, \\\n",
    "                       armsRot = 0., Nbar = -1, radmax = 1.):\n",
    "    \n",
    "    #there must be a better way to do this, but I'm going to save the x,y,z arrays separately and vstack later\n",
    "    galaxyX = np.array([])\n",
    "    galaxyY = np.array([])\n",
    "    galaxyZ = np.array([])\n",
    "\n",
    "    zaxis = np.array([ 0, 0, 1 ])\n",
    "    yaxis = np.array([ 0, 1, 0 ])\n",
    "\n",
    "#http://adsabs.harvard.edu/abs/2009MNRAS.397..164R\n",
    "    for i in range(starsPerArm):\n",
    "\n",
    "        angle = (i + 1)/starsPerArm*2.*np.pi\n",
    "        r = radius/np.log(B*np.tan(angle/(2.*N)))\n",
    "        if (np.abs(r) < radmax):\n",
    "            x = r*np.cos(angle) + np.random.normal(loc=0, scale=armThickness)\n",
    "            y = -r*np.sin(angle) + np.random.normal(loc=0, scale=armThickness)\n",
    "            z = np.random.normal(loc=0, scale=scaleHeight)\n",
    "\n",
    "            vect = np.array([x, y, z])\n",
    "            vect = np.dot(rotation_matrix(zaxis, armsRot), vect)\n",
    "            vect = np.dot(rotation_matrix(yaxis, np.pi), vect)\n",
    "            galaxyX = np.append(galaxyX,vect[0])\n",
    "            galaxyY = np.append(galaxyY,vect[1])\n",
    "            galaxyZ = np.append(galaxyZ,vect[2])\n",
    "            \n",
    "            x = -r*np.cos(angle) + np.random.normal(loc=0, scale=armThickness)\n",
    "            y = r*np.sin(angle) + np.random.normal(loc=0, scale=armThickness)\n",
    "            #z = -1.*((np.random.random() - 0.5)*scaleHeight)\n",
    "            z = np.random.normal(loc=0, scale=scaleHeight)\n",
    "\n",
    "            vect = np.array([x, y, z])\n",
    "            vect = np.dot(rotation_matrix(zaxis, armsRot), vect)\n",
    "            vect = np.dot(rotation_matrix(yaxis, np.pi), vect)\n",
    "            galaxyX = np.append(galaxyX,vect[0])\n",
    "            galaxyY = np.append(galaxyY,vect[1])\n",
    "            galaxyZ = np.append(galaxyZ,vect[2])\n",
    "            \n",
    "#connect the bar\n",
    "    smallAngle = 1./np.abs(starsPerArm)*2.*np.pi\n",
    "    smallR = radius/np.log(B*np.tan(smallAngle/(2.*N)))\n",
    "    if (Nbar < 0):\n",
    "         Nbar = starsPerArm*np.abs(smallR)/radius\n",
    "    for i in range(int(round(Nbar))):\n",
    "\n",
    "        r = smallR*(2.*i/Nbar - 1.)\n",
    "        x = r + np.random.normal(loc=0, scale=armThickness)\n",
    "        y = -np.random.normal(loc=0, scale=armThickness)\n",
    "        #z = (np.random.random() - 0.5)*scaleHeight\n",
    "        z = np.random.normal(loc=0, scale=scaleHeight)\n",
    "\n",
    "        vect = np.array([x, y, z])\n",
    "        vect = np.dot(rotation_matrix(zaxis, armsRot), vect)\n",
    "        vect = np.dot(rotation_matrix(yaxis, np.pi), vect)\n",
    "        galaxyX = np.append(galaxyX,vect[0])\n",
    "        galaxyY = np.append(galaxyY,vect[1])\n",
    "        galaxyZ = np.append(galaxyZ,vect[2])\n",
    "\n",
    "    return np.vstack((galaxyX, galaxyY, galaxyZ)).T;\n"
   ]
  },
  {
   "cell_type": "code",
   "execution_count": 110,
   "metadata": {},
   "outputs": [],
   "source": [
    "radius = 1.2\n",
    "scaleHeight = 0.15\n",
    "N = 300. #winding tightness\n",
    "B = 60. #bulge-to-arm size\n",
    "armsRot = 0.\n",
    "arms = 2\n",
    "starsPerArm = 2000\n",
    "armThickness = 0.2\n",
    "\n",
    "gal = createSpiralGalaxy(arms, starsPerArm, radius, scaleHeight, armThickness, N, B, \\\n",
    "                            armsRot = armsRot, Nbar = -1., radmax=100); \n"
   ]
  },
  {
   "cell_type": "code",
   "execution_count": 83,
   "metadata": {},
   "outputs": [
    {
     "data": {
      "text/plain": [
       "array([[ 0.26617975, -0.08252909,  0.11900837],\n",
       "       [-0.07990538,  0.12407762, -0.23421829],\n",
       "       [ 0.13899623, -0.03432531, -0.28208393],\n",
       "       ...,\n",
       "       [ 0.29454328, -0.11870372,  0.1867521 ],\n",
       "       [ 0.18359891,  0.0745802 , -0.13080881],\n",
       "       [ 0.11253255, -0.10645814, -0.23211261]])"
      ]
     },
     "execution_count": 83,
     "metadata": {},
     "output_type": "execute_result"
    }
   ],
   "source": [
    "gal"
   ]
  },
  {
   "cell_type": "markdown",
   "metadata": {},
   "source": [
    "## Look at this in Firefly"
   ]
  },
  {
   "cell_type": "code",
   "execution_count": 59,
   "metadata": {},
   "outputs": [],
   "source": [
    "# some_file.py\n",
    "import sys\n",
    "sys.path.insert(0, '/Users/ageller/Visualizations/Firefly/static/data')\n",
    "\n",
    "import pandas as pd\n",
    "from simpleReader import simpleReader\n",
    "import requests\n",
    "from IPython.display import IFrame"
   ]
  },
  {
   "cell_type": "markdown",
   "metadata": {},
   "source": [
    "### Start the server"
   ]
  },
  {
   "cell_type": "code",
   "execution_count": 60,
   "metadata": {},
   "outputs": [],
   "source": [
    "%%bash --bg --proc bg_proc\n",
    "python /Users/ageller/Visualizations/Firefly/FireflyFlaskApp.py"
   ]
  },
  {
   "cell_type": "markdown",
   "metadata": {},
   "source": [
    "### Show Firefly in an Iframe"
   ]
  },
  {
   "cell_type": "code",
   "execution_count": 61,
   "metadata": {},
   "outputs": [
    {
     "data": {
      "text/html": [
       "\n",
       "        <iframe\n",
       "            width=\"1000\"\n",
       "            height=\"700\"\n",
       "            src=\"http://localhost:5000/combined\"\n",
       "            frameborder=\"0\"\n",
       "            allowfullscreen\n",
       "        ></iframe>\n",
       "        "
      ],
      "text/plain": [
       "<IPython.lib.display.IFrame at 0x11f448a58>"
      ]
     },
     "execution_count": 61,
     "metadata": {},
     "output_type": "execute_result"
    }
   ],
   "source": [
    "url = \"http://localhost:5000/combined\"\n",
    "IFrame(url, width=1000, height=700)"
   ]
  },
  {
   "cell_type": "markdown",
   "metadata": {},
   "source": [
    "### Format the data and send it to Firefly"
   ]
  },
  {
   "cell_type": "code",
   "execution_count": 111,
   "metadata": {},
   "outputs": [
    {
     "name": "stdout",
     "output_type": "stream",
     "text": [
      "(4248, 3)\n",
      "(4248, 3)\n"
     ]
    },
    {
     "data": {
      "text/plain": [
       "<Response [200]>"
      ]
     },
     "execution_count": 111,
     "metadata": {},
     "output_type": "execute_result"
    }
   ],
   "source": [
    "print(gal.shape)\n",
    "\n",
    "name = \"galaxy\"\n",
    "outDict = simpleReader(name, gal, [1,1,0,0.1], 30)\n",
    "print(outDict['parts'][name]['Coordinates'].shape)\n",
    "\n",
    "s = pd.Series(outDict).to_json()\n",
    "requests.post(\"http://localhost:5000/data_input\", json=s)"
   ]
  },
  {
   "cell_type": "markdown",
   "metadata": {},
   "source": [
    "*To kill the Firefly server*"
   ]
  },
  {
   "cell_type": "code",
   "execution_count": 112,
   "metadata": {},
   "outputs": [
    {
     "name": "stdout",
     "output_type": "stream",
     "text": [
      "kill: 11584: No such process\r\n"
     ]
    }
   ],
   "source": [
    "# uncomment the next line\n",
    "! ps aux | grep Firefly | awk '{print $2}' | xargs kill"
   ]
  },
  {
   "cell_type": "markdown",
   "metadata": {},
   "source": [
    "## Write to the \"raw\" file"
   ]
  },
  {
   "cell_type": "code",
   "execution_count": 113,
   "metadata": {},
   "outputs": [],
   "source": [
    "import csv\n",
    "csvfile = open(\"../data/galaxy.raw\", 'wt')\n",
    "csvwriter = csv.writer(csvfile, delimiter=' ', quotechar='|', quoting=csv.QUOTE_MINIMAL)\n",
    "for i in range(len(gal)):\n",
    "    csvwriter.writerow([gal[i][0], gal[i][1], gal[i][2], \n",
    "                        1, 2, 3, 4, 5, 6])\n",
    "csvfile.close()"
   ]
  },
  {
   "cell_type": "code",
   "execution_count": null,
   "metadata": {},
   "outputs": [],
   "source": []
  }
 ],
 "metadata": {
  "kernelspec": {
   "display_name": "Python 3",
   "language": "python",
   "name": "python3"
  },
  "language_info": {
   "codemirror_mode": {
    "name": "ipython",
    "version": 3
   },
   "file_extension": ".py",
   "mimetype": "text/x-python",
   "name": "python",
   "nbconvert_exporter": "python",
   "pygments_lexer": "ipython3",
   "version": "3.7.3"
  }
 },
 "nbformat": 4,
 "nbformat_minor": 2
}
